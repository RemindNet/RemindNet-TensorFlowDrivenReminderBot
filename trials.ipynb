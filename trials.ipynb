{
 "cells": [
  {
   "cell_type": "code",
   "execution_count": 2,
   "metadata": {},
   "outputs": [
    {
     "ename": "IndexError",
     "evalue": "list assignment index out of range",
     "output_type": "error",
     "traceback": [
      "\u001b[0;31m---------------------------------------------------------------------------\u001b[0m",
      "\u001b[0;31mIndexError\u001b[0m                                Traceback (most recent call last)",
      "Cell \u001b[0;32mIn[2], line 28\u001b[0m\n\u001b[1;32m     26\u001b[0m input_sentence \u001b[38;5;241m=\u001b[39m \u001b[38;5;124m\"\u001b[39m\u001b[38;5;124mSchedule a meeting with John tomorrow at 2 PM.\u001b[39m\u001b[38;5;124m\"\u001b[39m\n\u001b[1;32m     27\u001b[0m date_word \u001b[38;5;241m=\u001b[39m \u001b[38;5;124m\"\u001b[39m\u001b[38;5;124mtomorrow\u001b[39m\u001b[38;5;124m\"\u001b[39m\n\u001b[0;32m---> 28\u001b[0m entity_labels \u001b[38;5;241m=\u001b[39m \u001b[43mmap_entities\u001b[49m\u001b[43m(\u001b[49m\u001b[43minput_sentence\u001b[49m\u001b[43m,\u001b[49m\u001b[43m \u001b[49m\u001b[43mdate_word\u001b[49m\u001b[43m)\u001b[49m\n\u001b[1;32m     29\u001b[0m \u001b[38;5;28mprint\u001b[39m(entity_labels)\n",
      "Cell \u001b[0;32mIn[2], line 16\u001b[0m, in \u001b[0;36mmap_entities\u001b[0;34m(input_sentence, date_word)\u001b[0m\n\u001b[1;32m     14\u001b[0m \u001b[38;5;28;01mfor\u001b[39;00m i \u001b[38;5;129;01min\u001b[39;00m \u001b[38;5;28mrange\u001b[39m(date_start, date_end):\n\u001b[1;32m     15\u001b[0m     \u001b[38;5;28;01mif\u001b[39;00m i \u001b[38;5;241m==\u001b[39m date_start:\n\u001b[0;32m---> 16\u001b[0m         \u001b[43mentity_labels\u001b[49m\u001b[43m[\u001b[49m\u001b[43mi\u001b[49m\u001b[43m]\u001b[49m \u001b[38;5;241m=\u001b[39m \u001b[38;5;124m'\u001b[39m\u001b[38;5;124mdate\u001b[39m\u001b[38;5;124m'\u001b[39m\n\u001b[1;32m     17\u001b[0m     \u001b[38;5;28;01melse\u001b[39;00m:\n\u001b[1;32m     18\u001b[0m         entity_labels[i] \u001b[38;5;241m=\u001b[39m \u001b[38;5;124m'\u001b[39m\u001b[38;5;124mdate\u001b[39m\u001b[38;5;124m'\u001b[39m\n",
      "\u001b[0;31mIndexError\u001b[0m: list assignment index out of range"
     ]
    }
   ],
   "source": [
    "import re\n",
    "\n",
    "def map_entities(input_sentence, date_word):\n",
    "    tokens = input_sentence.split()\n",
    "    entity_labels = ['O'] * len(tokens)\n",
    "    \n",
    "    # Search for the date word in the input sentence\n",
    "    match = re.search(r'\\b{}\\b'.format(date_word), input_sentence)\n",
    "    if match:\n",
    "        date_start = match.start()\n",
    "        date_end = date_start + len(date_word)\n",
    "        \n",
    "        # Mark the tokens corresponding to the date as 'B-date' and 'I-date'\n",
    "        for i in range(date_start, date_end):\n",
    "            if i == date_start:\n",
    "                entity_labels[i] = 'date'\n",
    "            else:\n",
    "                entity_labels[i] = 'date'\n",
    "    \n",
    "    # Concatenate the entity labels into a string\n",
    "    entity_labels_str = ','.join(entity_labels)\n",
    "    \n",
    "    return entity_labels_str\n",
    "\n",
    "# Example usage\n",
    "input_sentence = \"Schedule a meeting with John tomorrow at 2 PM.\"\n",
    "date_word = \"tomorrow\"\n",
    "entity_labels = map_entities(input_sentence, date_word)\n",
    "print(entity_labels)\n"
   ]
  },
  {
   "cell_type": "code",
   "execution_count": 6,
   "metadata": {},
   "outputs": [
    {
     "data": {
      "text/plain": [
       "[0, 0, 'task_detail', 'task_detail', 'task_detail', 'date', 0, 'time', 0]"
      ]
     },
     "execution_count": 6,
     "metadata": {},
     "output_type": "execute_result"
    }
   ],
   "source": [
    "def find_indices(sentence, day, time, task_detail):\n",
    "    words = sentence.split()\n",
    "    indices = [0]*len(words)\n",
    "    task_detail_words = task_detail.split()\n",
    "    for i, word in enumerate(words):\n",
    "        if word == day:\n",
    "            indices[i] = 'date'\n",
    "        elif word == time:\n",
    "            indices[i] = 'time'\n",
    "        elif word in task_detail_words:\n",
    "            indices[i] = 'task_detail'\n",
    "    return indices\n",
    "\n",
    "find_indices(\"Schedule a meeting with John tomorrow at 2 PM.\", \"tomorrow\", \"2\", \"meeting with John\")"
   ]
  },
  {
   "cell_type": "code",
   "execution_count": null,
   "metadata": {},
   "outputs": [],
   "source": []
  }
 ],
 "metadata": {
  "kernelspec": {
   "display_name": "tf",
   "language": "python",
   "name": "python3"
  },
  "language_info": {
   "codemirror_mode": {
    "name": "ipython",
    "version": 3
   },
   "file_extension": ".py",
   "mimetype": "text/x-python",
   "name": "python",
   "nbconvert_exporter": "python",
   "pygments_lexer": "ipython3",
   "version": "3.10.13"
  }
 },
 "nbformat": 4,
 "nbformat_minor": 2
}
