{
 "cells": [
  {
   "cell_type": "code",
   "execution_count": 204,
   "metadata": {},
   "outputs": [],
   "source": [
    "import pandas as pd\n",
    "import numpy as np\n",
    "import string\n",
    "import re\n",
    " \n",
    "# Load the data\n",
    "data = pd.read_csv('trial.csv')"
   ]
  },
  {
   "cell_type": "code",
   "execution_count": 205,
   "metadata": {},
   "outputs": [
    {
     "data": {
      "text/html": [
       "<div>\n",
       "<style scoped>\n",
       "    .dataframe tbody tr th:only-of-type {\n",
       "        vertical-align: middle;\n",
       "    }\n",
       "\n",
       "    .dataframe tbody tr th {\n",
       "        vertical-align: top;\n",
       "    }\n",
       "\n",
       "    .dataframe thead th {\n",
       "        text-align: right;\n",
       "    }\n",
       "</style>\n",
       "<table border=\"1\" class=\"dataframe\">\n",
       "  <thead>\n",
       "    <tr style=\"text-align: right;\">\n",
       "      <th></th>\n",
       "      <th>input</th>\n",
       "      <th>time</th>\n",
       "      <th>date</th>\n",
       "      <th>task_detail</th>\n",
       "    </tr>\n",
       "  </thead>\n",
       "  <tbody>\n",
       "    <tr>\n",
       "      <th>0</th>\n",
       "      <td>Schedule a meeting with John tomorrow at 2 PM.</td>\n",
       "      <td>2 PM</td>\n",
       "      <td>Tomorrow</td>\n",
       "      <td>Meeting with John</td>\n",
       "    </tr>\n",
       "    <tr>\n",
       "      <th>1</th>\n",
       "      <td>Remind me to buy groceries on Friday at 6 PM.</td>\n",
       "      <td>6 PM</td>\n",
       "      <td>Friday</td>\n",
       "      <td>Buy groceries</td>\n",
       "    </tr>\n",
       "    <tr>\n",
       "      <th>2</th>\n",
       "      <td>Schedule a call with Sarah for next Monday at ...</td>\n",
       "      <td>10 AM</td>\n",
       "      <td>next Monday</td>\n",
       "      <td>Call with Sarah</td>\n",
       "    </tr>\n",
       "    <tr>\n",
       "      <th>3</th>\n",
       "      <td>Set a reminder to submit the project report by...</td>\n",
       "      <td>5 PM</td>\n",
       "      <td>tomorrow</td>\n",
       "      <td>Submit the project report</td>\n",
       "    </tr>\n",
       "    <tr>\n",
       "      <th>4</th>\n",
       "      <td>Remind me to water the plants on Sunday morning.</td>\n",
       "      <td>morning</td>\n",
       "      <td>Sunday</td>\n",
       "      <td>Water the plants</td>\n",
       "    </tr>\n",
       "  </tbody>\n",
       "</table>\n",
       "</div>"
      ],
      "text/plain": [
       "                                               input     time         date  \\\n",
       "0     Schedule a meeting with John tomorrow at 2 PM.     2 PM     Tomorrow   \n",
       "1      Remind me to buy groceries on Friday at 6 PM.     6 PM       Friday   \n",
       "2  Schedule a call with Sarah for next Monday at ...    10 AM  next Monday   \n",
       "3  Set a reminder to submit the project report by...     5 PM     tomorrow   \n",
       "4   Remind me to water the plants on Sunday morning.  morning       Sunday   \n",
       "\n",
       "                 task_detail  \n",
       "0          Meeting with John  \n",
       "1              Buy groceries  \n",
       "2            Call with Sarah  \n",
       "3  Submit the project report  \n",
       "4           Water the plants  "
      ]
     },
     "execution_count": 205,
     "metadata": {},
     "output_type": "execute_result"
    }
   ],
   "source": [
    "data.head(5)"
   ]
  },
  {
   "cell_type": "code",
   "execution_count": 206,
   "metadata": {},
   "outputs": [],
   "source": [
    "def remove_punctuation(text):\n",
    "    # Define a regex pattern to match punctuation\n",
    "    punctuation_pattern = re.compile('[%s]' % re.escape(string.punctuation))\n",
    "    # Remove punctuation from the text\n",
    "    text_no_punctuation = punctuation_pattern.sub('', text)\n",
    "    return text_no_punctuation\n",
    "\n",
    "def preprocess_col(col):\n",
    "    col = col.astype(str).str.lower()\n",
    "    col = col.apply(remove_punctuation)\n",
    "    return col\n"
   ]
  },
  {
   "cell_type": "code",
   "execution_count": 207,
   "metadata": {},
   "outputs": [
    {
     "data": {
      "text/html": [
       "<div>\n",
       "<style scoped>\n",
       "    .dataframe tbody tr th:only-of-type {\n",
       "        vertical-align: middle;\n",
       "    }\n",
       "\n",
       "    .dataframe tbody tr th {\n",
       "        vertical-align: top;\n",
       "    }\n",
       "\n",
       "    .dataframe thead th {\n",
       "        text-align: right;\n",
       "    }\n",
       "</style>\n",
       "<table border=\"1\" class=\"dataframe\">\n",
       "  <thead>\n",
       "    <tr style=\"text-align: right;\">\n",
       "      <th></th>\n",
       "      <th>input</th>\n",
       "      <th>time</th>\n",
       "      <th>date</th>\n",
       "      <th>task_detail</th>\n",
       "    </tr>\n",
       "  </thead>\n",
       "  <tbody>\n",
       "    <tr>\n",
       "      <th>0</th>\n",
       "      <td>schedule a meeting with john tomorrow at 2 pm</td>\n",
       "      <td>2 pm</td>\n",
       "      <td>tomorrow</td>\n",
       "      <td>meeting with john</td>\n",
       "    </tr>\n",
       "    <tr>\n",
       "      <th>1</th>\n",
       "      <td>remind me to buy groceries on friday at 6 pm</td>\n",
       "      <td>6 pm</td>\n",
       "      <td>friday</td>\n",
       "      <td>buy groceries</td>\n",
       "    </tr>\n",
       "    <tr>\n",
       "      <th>2</th>\n",
       "      <td>schedule a call with sarah for next monday at ...</td>\n",
       "      <td>10 am</td>\n",
       "      <td>next monday</td>\n",
       "      <td>call with sarah</td>\n",
       "    </tr>\n",
       "    <tr>\n",
       "      <th>3</th>\n",
       "      <td>set a reminder to submit the project report by...</td>\n",
       "      <td>5 pm</td>\n",
       "      <td>tomorrow</td>\n",
       "      <td>submit the project report</td>\n",
       "    </tr>\n",
       "  </tbody>\n",
       "</table>\n",
       "</div>"
      ],
      "text/plain": [
       "                                               input   time         date  \\\n",
       "0      schedule a meeting with john tomorrow at 2 pm   2 pm     tomorrow   \n",
       "1       remind me to buy groceries on friday at 6 pm   6 pm       friday   \n",
       "2  schedule a call with sarah for next monday at ...  10 am  next monday   \n",
       "3  set a reminder to submit the project report by...   5 pm     tomorrow   \n",
       "\n",
       "                 task_detail  \n",
       "0          meeting with john  \n",
       "1              buy groceries  \n",
       "2            call with sarah  \n",
       "3  submit the project report  "
      ]
     },
     "execution_count": 207,
     "metadata": {},
     "output_type": "execute_result"
    }
   ],
   "source": [
    "for col in data.columns:\n",
    "    data[col] = preprocess_col(data[col])\n",
    "data.head(4)"
   ]
  },
  {
   "cell_type": "code",
   "execution_count": 208,
   "metadata": {},
   "outputs": [
    {
     "data": {
      "text/plain": [
       "[0, 0, 'task_detail', 'task_detail', 'task_detail', 'date', 0, 'time', 0]"
      ]
     },
     "execution_count": 208,
     "metadata": {},
     "output_type": "execute_result"
    }
   ],
   "source": [
    "def find_indices(sentence, day, time, task_detail):\n",
    "    words = sentence.split()\n",
    "    indices = [0]*len(words)\n",
    "    task_detail_words = task_detail.split()\n",
    "    time_words = time.split()\n",
    "    date_words = day.split()\n",
    "    for i, word in enumerate(words):\n",
    "        if word in date_words:\n",
    "            indices[i] = 'date'\n",
    "        elif word in time_words:\n",
    "            indices[i] = 'time'\n",
    "        elif word in task_detail_words:\n",
    "            indices[i] = 'task_detail'\n",
    "    return indices\n",
    "\n",
    "find_indices(\"Schedule a meeting with John tomorrow at 2 PM.\", \"tomorrow\", \"2\", \"meeting with John\")"
   ]
  },
  {
   "cell_type": "code",
   "execution_count": 209,
   "metadata": {},
   "outputs": [],
   "source": [
    "data['new_column'] = data.apply(lambda row: find_indices(row['input'], row['date'], row['time'], row['task_detail']), axis=1)"
   ]
  },
  {
   "cell_type": "code",
   "execution_count": 210,
   "metadata": {},
   "outputs": [
    {
     "data": {
      "text/html": [
       "<div>\n",
       "<style scoped>\n",
       "    .dataframe tbody tr th:only-of-type {\n",
       "        vertical-align: middle;\n",
       "    }\n",
       "\n",
       "    .dataframe tbody tr th {\n",
       "        vertical-align: top;\n",
       "    }\n",
       "\n",
       "    .dataframe thead th {\n",
       "        text-align: right;\n",
       "    }\n",
       "</style>\n",
       "<table border=\"1\" class=\"dataframe\">\n",
       "  <thead>\n",
       "    <tr style=\"text-align: right;\">\n",
       "      <th></th>\n",
       "      <th>input</th>\n",
       "      <th>time</th>\n",
       "      <th>date</th>\n",
       "      <th>task_detail</th>\n",
       "      <th>new_column</th>\n",
       "    </tr>\n",
       "  </thead>\n",
       "  <tbody>\n",
       "    <tr>\n",
       "      <th>0</th>\n",
       "      <td>schedule a meeting with john tomorrow at 2 pm</td>\n",
       "      <td>2 pm</td>\n",
       "      <td>tomorrow</td>\n",
       "      <td>meeting with john</td>\n",
       "      <td>[0, 0, task_detail, task_detail, task_detail, ...</td>\n",
       "    </tr>\n",
       "    <tr>\n",
       "      <th>1</th>\n",
       "      <td>remind me to buy groceries on friday at 6 pm</td>\n",
       "      <td>6 pm</td>\n",
       "      <td>friday</td>\n",
       "      <td>buy groceries</td>\n",
       "      <td>[0, 0, 0, task_detail, task_detail, 0, date, 0...</td>\n",
       "    </tr>\n",
       "  </tbody>\n",
       "</table>\n",
       "</div>"
      ],
      "text/plain": [
       "                                           input  time      date  \\\n",
       "0  schedule a meeting with john tomorrow at 2 pm  2 pm  tomorrow   \n",
       "1   remind me to buy groceries on friday at 6 pm  6 pm    friday   \n",
       "\n",
       "         task_detail                                         new_column  \n",
       "0  meeting with john  [0, 0, task_detail, task_detail, task_detail, ...  \n",
       "1      buy groceries  [0, 0, 0, task_detail, task_detail, 0, date, 0...  "
      ]
     },
     "execution_count": 210,
     "metadata": {},
     "output_type": "execute_result"
    }
   ],
   "source": [
    "data.head(2)"
   ]
  },
  {
   "cell_type": "code",
   "execution_count": 236,
   "metadata": {},
   "outputs": [],
   "source": [
    "data = pd.read_csv('output.csv')"
   ]
  },
  {
   "cell_type": "code",
   "execution_count": 239,
   "metadata": {},
   "outputs": [
    {
     "data": {
      "text/html": [
       "<div>\n",
       "<style scoped>\n",
       "    .dataframe tbody tr th:only-of-type {\n",
       "        vertical-align: middle;\n",
       "    }\n",
       "\n",
       "    .dataframe tbody tr th {\n",
       "        vertical-align: top;\n",
       "    }\n",
       "\n",
       "    .dataframe thead th {\n",
       "        text-align: right;\n",
       "    }\n",
       "</style>\n",
       "<table border=\"1\" class=\"dataframe\">\n",
       "  <thead>\n",
       "    <tr style=\"text-align: right;\">\n",
       "      <th></th>\n",
       "      <th>input</th>\n",
       "      <th>time</th>\n",
       "      <th>date</th>\n",
       "      <th>task_detail</th>\n",
       "      <th>new_column</th>\n",
       "    </tr>\n",
       "  </thead>\n",
       "  <tbody>\n",
       "    <tr>\n",
       "      <th>0</th>\n",
       "      <td>schedule a meeting with john tomorrow at 2 pm</td>\n",
       "      <td>2 pm</td>\n",
       "      <td>tomorrow</td>\n",
       "      <td>meeting with john</td>\n",
       "      <td>[0, 0, 'task_detail', 'task_detail', 'task_det...</td>\n",
       "    </tr>\n",
       "    <tr>\n",
       "      <th>1</th>\n",
       "      <td>remind me to buy groceries on friday at 6 pm</td>\n",
       "      <td>6 pm</td>\n",
       "      <td>friday</td>\n",
       "      <td>buy groceries</td>\n",
       "      <td>[0, 0, 0, 'task_detail', 'task_detail', 0, 'da...</td>\n",
       "    </tr>\n",
       "    <tr>\n",
       "      <th>2</th>\n",
       "      <td>schedule a call with sarah for next monday at ...</td>\n",
       "      <td>10 am</td>\n",
       "      <td>next monday</td>\n",
       "      <td>call with sarah</td>\n",
       "      <td>[0, 0, 'task_detail', 'task_detail', 'task_det...</td>\n",
       "    </tr>\n",
       "    <tr>\n",
       "      <th>3</th>\n",
       "      <td>set a reminder to submit the project report by...</td>\n",
       "      <td>5 pm</td>\n",
       "      <td>tomorrow</td>\n",
       "      <td>submit the project report</td>\n",
       "      <td>[0, 0, 0, 0, 'task_detail', 'task_detail', 'ta...</td>\n",
       "    </tr>\n",
       "    <tr>\n",
       "      <th>4</th>\n",
       "      <td>remind me to water the plants on sunday morning</td>\n",
       "      <td>morning</td>\n",
       "      <td>sunday</td>\n",
       "      <td>water the plants</td>\n",
       "      <td>[0, 0, 0, 'task_detail', 'task_detail', 'task_...</td>\n",
       "    </tr>\n",
       "  </tbody>\n",
       "</table>\n",
       "</div>"
      ],
      "text/plain": [
       "                                               input     time         date  \\\n",
       "0      schedule a meeting with john tomorrow at 2 pm     2 pm     tomorrow   \n",
       "1       remind me to buy groceries on friday at 6 pm     6 pm       friday   \n",
       "2  schedule a call with sarah for next monday at ...    10 am  next monday   \n",
       "3  set a reminder to submit the project report by...     5 pm     tomorrow   \n",
       "4    remind me to water the plants on sunday morning  morning       sunday   \n",
       "\n",
       "                 task_detail  \\\n",
       "0          meeting with john   \n",
       "1              buy groceries   \n",
       "2            call with sarah   \n",
       "3  submit the project report   \n",
       "4           water the plants   \n",
       "\n",
       "                                          new_column  \n",
       "0  [0, 0, 'task_detail', 'task_detail', 'task_det...  \n",
       "1  [0, 0, 0, 'task_detail', 'task_detail', 0, 'da...  \n",
       "2  [0, 0, 'task_detail', 'task_detail', 'task_det...  \n",
       "3  [0, 0, 0, 0, 'task_detail', 'task_detail', 'ta...  \n",
       "4  [0, 0, 0, 'task_detail', 'task_detail', 'task_...  "
      ]
     },
     "execution_count": 239,
     "metadata": {},
     "output_type": "execute_result"
    }
   ],
   "source": [
    "data.head()"
   ]
  },
  {
   "cell_type": "code",
   "execution_count": 256,
   "metadata": {},
   "outputs": [],
   "source": [
    "indices = data['new_column']\n",
    "indices = list(map(eval, indices))"
   ]
  },
  {
   "cell_type": "code",
   "execution_count": 257,
   "metadata": {},
   "outputs": [],
   "source": [
    "def change_indices(indice):\n",
    "    start_task_flag = True\n",
    "    start_date_flag = True\n",
    "    start_time_flag = True\n",
    "    task_index = []\n",
    "    date_index = []\n",
    "    time_index = []\n",
    "    \n",
    "    for i in range(len(indice)):\n",
    "        if indice[i] == 'task_detail':\n",
    "            if start_task_flag:\n",
    "                task_index.append('B-' + indice[i])\n",
    "                date_index.append('O')\n",
    "                time_index.append('O')\n",
    "                start_task_flag = False\n",
    "            else:\n",
    "                task_index.append('I-' + indice[i])\n",
    "                date_index.append('O')\n",
    "                time_index.append('O')\n",
    "                \n",
    "        elif indice[i] == 'date':\n",
    "            if start_date_flag:\n",
    "                date_index.append('B-' + indice[i])\n",
    "                time_index.append('O')\n",
    "                task_index.append('O')\n",
    "                start_date_flag = False\n",
    "            else:\n",
    "                date_index.append('I-' + indice[i])\n",
    "                time_index.append('O')\n",
    "                task_index.append('O')\n",
    "\n",
    "        elif indice[i] == 'time':\n",
    "            if start_time_flag:\n",
    "                time_index.append('B-' + indice[i])\n",
    "                date_index.append('O')\n",
    "                task_index.append('O')\n",
    "                start_time_flag = False\n",
    "            else:\n",
    "                time_index.append('I-' + indice[i])\n",
    "                date_index.append('O')\n",
    "                task_index.append('O')\n",
    "                \n",
    "        elif indice[i] == 0:\n",
    "            task_index.append('O')\n",
    "            date_index.append('O')\n",
    "            time_index.append('O')\n",
    "    \n",
    "    return task_index, date_index, time_index\n"
   ]
  },
  {
   "cell_type": "code",
   "execution_count": 258,
   "metadata": {},
   "outputs": [],
   "source": [
    "combined_labels = [0, 0, 'task_detail', 'task_detail', 'task_detail', 'date', 0, 'time', 'time']"
   ]
  },
  {
   "cell_type": "code",
   "execution_count": 259,
   "metadata": {},
   "outputs": [],
   "source": [
    "task_index, date_index, time_index = change_indices(combined_labels)"
   ]
  },
  {
   "cell_type": "code",
   "execution_count": 272,
   "metadata": {},
   "outputs": [
    {
     "data": {
      "text/plain": [
       "\"[0, 0, 0, 0, 'task_detail', 0, 'task_detail', 'task_detail', 0, 0, 'time', 'time', 'time', 'time', 'date']\""
      ]
     },
     "execution_count": 272,
     "metadata": {},
     "output_type": "execute_result"
    }
   ],
   "source": [
    "data.iloc[10]['new_column']"
   ]
  },
  {
   "cell_type": "code",
   "execution_count": 276,
   "metadata": {},
   "outputs": [
    {
     "data": {
      "text/html": [
       "<div>\n",
       "<style scoped>\n",
       "    .dataframe tbody tr th:only-of-type {\n",
       "        vertical-align: middle;\n",
       "    }\n",
       "\n",
       "    .dataframe tbody tr th {\n",
       "        vertical-align: top;\n",
       "    }\n",
       "\n",
       "    .dataframe thead th {\n",
       "        text-align: right;\n",
       "    }\n",
       "</style>\n",
       "<table border=\"1\" class=\"dataframe\">\n",
       "  <thead>\n",
       "    <tr style=\"text-align: right;\">\n",
       "      <th></th>\n",
       "      <th>input</th>\n",
       "      <th>time</th>\n",
       "      <th>date</th>\n",
       "      <th>task_detail</th>\n",
       "      <th>new_column</th>\n",
       "    </tr>\n",
       "  </thead>\n",
       "  <tbody>\n",
       "    <tr>\n",
       "      <th>0</th>\n",
       "      <td>schedule a meeting with john tomorrow at 2 pm</td>\n",
       "      <td>2 pm</td>\n",
       "      <td>tomorrow</td>\n",
       "      <td>meeting with john</td>\n",
       "      <td>[0, 0, 'task_detail', 'task_detail', 'task_det...</td>\n",
       "    </tr>\n",
       "    <tr>\n",
       "      <th>1</th>\n",
       "      <td>remind me to buy groceries on friday at 6 pm</td>\n",
       "      <td>6 pm</td>\n",
       "      <td>friday</td>\n",
       "      <td>buy groceries</td>\n",
       "      <td>[0, 0, 0, 'task_detail', 'task_detail', 0, 'da...</td>\n",
       "    </tr>\n",
       "    <tr>\n",
       "      <th>2</th>\n",
       "      <td>schedule a call with sarah for next monday at ...</td>\n",
       "      <td>10 am</td>\n",
       "      <td>next monday</td>\n",
       "      <td>call with sarah</td>\n",
       "      <td>[0, 0, 'task_detail', 'task_detail', 'task_det...</td>\n",
       "    </tr>\n",
       "    <tr>\n",
       "      <th>3</th>\n",
       "      <td>set a reminder to submit the project report by...</td>\n",
       "      <td>5 pm</td>\n",
       "      <td>tomorrow</td>\n",
       "      <td>submit the project report</td>\n",
       "      <td>[0, 0, 0, 0, 'task_detail', 'task_detail', 'ta...</td>\n",
       "    </tr>\n",
       "    <tr>\n",
       "      <th>4</th>\n",
       "      <td>remind me to water the plants on sunday morning</td>\n",
       "      <td>morning</td>\n",
       "      <td>sunday</td>\n",
       "      <td>water the plants</td>\n",
       "      <td>[0, 0, 0, 'task_detail', 'task_detail', 'task_...</td>\n",
       "    </tr>\n",
       "  </tbody>\n",
       "</table>\n",
       "</div>"
      ],
      "text/plain": [
       "                                               input     time         date  \\\n",
       "0      schedule a meeting with john tomorrow at 2 pm     2 pm     tomorrow   \n",
       "1       remind me to buy groceries on friday at 6 pm     6 pm       friday   \n",
       "2  schedule a call with sarah for next monday at ...    10 am  next monday   \n",
       "3  set a reminder to submit the project report by...     5 pm     tomorrow   \n",
       "4    remind me to water the plants on sunday morning  morning       sunday   \n",
       "\n",
       "                 task_detail  \\\n",
       "0          meeting with john   \n",
       "1              buy groceries   \n",
       "2            call with sarah   \n",
       "3  submit the project report   \n",
       "4           water the plants   \n",
       "\n",
       "                                          new_column  \n",
       "0  [0, 0, 'task_detail', 'task_detail', 'task_det...  \n",
       "1  [0, 0, 0, 'task_detail', 'task_detail', 0, 'da...  \n",
       "2  [0, 0, 'task_detail', 'task_detail', 'task_det...  \n",
       "3  [0, 0, 0, 0, 'task_detail', 'task_detail', 'ta...  \n",
       "4  [0, 0, 0, 'task_detail', 'task_detail', 'task_...  "
      ]
     },
     "execution_count": 276,
     "metadata": {},
     "output_type": "execute_result"
    }
   ],
   "source": [
    "data.head()"
   ]
  },
  {
   "cell_type": "code",
   "execution_count": 278,
   "metadata": {},
   "outputs": [
    {
     "data": {
      "text/plain": [
       "[0, 0, 'task_detail', 'task_detail', 'task_detail', 'date', 0, 'time', 'time']"
      ]
     },
     "execution_count": 278,
     "metadata": {},
     "output_type": "execute_result"
    }
   ],
   "source": [
    "indices[0]"
   ]
  },
  {
   "cell_type": "code",
   "execution_count": 279,
   "metadata": {},
   "outputs": [],
   "source": [
    "task_indices = []\n",
    "date_indices = []\n",
    "time_indices = []\n",
    "\n",
    "for i in range(len(indices)):\n",
    "    task_index, date_index, time_index = change_indices(indices[i])\n",
    "    task_indices.append(task_index)\n",
    "    date_indices.append(date_index)\n",
    "    time_indices.append(time_index)"
   ]
  },
  {
   "cell_type": "code",
   "execution_count": 280,
   "metadata": {},
   "outputs": [
    {
     "data": {
      "text/plain": [
       "['O',\n",
       " 'O',\n",
       " 'O',\n",
       " 'O',\n",
       " 'B-task_detail',\n",
       " 'O',\n",
       " 'I-task_detail',\n",
       " 'I-task_detail',\n",
       " 'O',\n",
       " 'O',\n",
       " 'O',\n",
       " 'O',\n",
       " 'O',\n",
       " 'O',\n",
       " 'O']"
      ]
     },
     "execution_count": 280,
     "metadata": {},
     "output_type": "execute_result"
    }
   ],
   "source": [
    "task_indices[10]"
   ]
  },
  {
   "cell_type": "code",
   "execution_count": 281,
   "metadata": {},
   "outputs": [
    {
     "data": {
      "text/plain": [
       "['O',\n",
       " 'O',\n",
       " 'O',\n",
       " 'O',\n",
       " 'O',\n",
       " 'O',\n",
       " 'O',\n",
       " 'O',\n",
       " 'O',\n",
       " 'O',\n",
       " 'B-time',\n",
       " 'I-time',\n",
       " 'I-time',\n",
       " 'I-time',\n",
       " 'O']"
      ]
     },
     "execution_count": 281,
     "metadata": {},
     "output_type": "execute_result"
    }
   ],
   "source": [
    "time_indices[10]"
   ]
  },
  {
   "cell_type": "code",
   "execution_count": 282,
   "metadata": {},
   "outputs": [
    {
     "name": "stdout",
     "output_type": "stream",
     "text": [
      "100 100 100\n"
     ]
    }
   ],
   "source": [
    "len(task_indices)\n",
    "print(len(task_indices), len(date_indices), len(time_indices))"
   ]
  },
  {
   "cell_type": "code",
   "execution_count": 283,
   "metadata": {},
   "outputs": [],
   "source": [
    "data['task_indices'] = task_indices\n",
    "data['date_indices'] = date_indices\n",
    "data['time_indices'] = time_indices"
   ]
  },
  {
   "cell_type": "code",
   "execution_count": 285,
   "metadata": {},
   "outputs": [],
   "source": [
    "data.drop(['new_column','date','time','task_detail'], axis=1, inplace=True)"
   ]
  },
  {
   "cell_type": "code",
   "execution_count": 286,
   "metadata": {},
   "outputs": [
    {
     "data": {
      "text/html": [
       "<div>\n",
       "<style scoped>\n",
       "    .dataframe tbody tr th:only-of-type {\n",
       "        vertical-align: middle;\n",
       "    }\n",
       "\n",
       "    .dataframe tbody tr th {\n",
       "        vertical-align: top;\n",
       "    }\n",
       "\n",
       "    .dataframe thead th {\n",
       "        text-align: right;\n",
       "    }\n",
       "</style>\n",
       "<table border=\"1\" class=\"dataframe\">\n",
       "  <thead>\n",
       "    <tr style=\"text-align: right;\">\n",
       "      <th></th>\n",
       "      <th>input</th>\n",
       "      <th>task_indices</th>\n",
       "      <th>date_indices</th>\n",
       "      <th>time_indices</th>\n",
       "    </tr>\n",
       "  </thead>\n",
       "  <tbody>\n",
       "    <tr>\n",
       "      <th>0</th>\n",
       "      <td>schedule a meeting with john tomorrow at 2 pm</td>\n",
       "      <td>[O, O, B-task_detail, I-task_detail, I-task_de...</td>\n",
       "      <td>[O, O, O, O, O, B-date, O, O, O]</td>\n",
       "      <td>[O, O, O, O, O, O, O, B-time, I-time]</td>\n",
       "    </tr>\n",
       "    <tr>\n",
       "      <th>1</th>\n",
       "      <td>remind me to buy groceries on friday at 6 pm</td>\n",
       "      <td>[O, O, O, B-task_detail, I-task_detail, O, O, ...</td>\n",
       "      <td>[O, O, O, O, O, O, B-date, O, O, O]</td>\n",
       "      <td>[O, O, O, O, O, O, O, O, B-time, I-time]</td>\n",
       "    </tr>\n",
       "    <tr>\n",
       "      <th>2</th>\n",
       "      <td>schedule a call with sarah for next monday at ...</td>\n",
       "      <td>[O, O, B-task_detail, I-task_detail, I-task_de...</td>\n",
       "      <td>[O, O, O, O, O, O, B-date, I-date, O, O, O]</td>\n",
       "      <td>[O, O, O, O, O, O, O, O, O, B-time, I-time]</td>\n",
       "    </tr>\n",
       "    <tr>\n",
       "      <th>3</th>\n",
       "      <td>set a reminder to submit the project report by...</td>\n",
       "      <td>[O, O, O, O, B-task_detail, I-task_detail, I-t...</td>\n",
       "      <td>[O, O, O, O, O, O, O, O, O, O, O, B-date]</td>\n",
       "      <td>[O, O, O, O, O, O, O, O, O, B-time, I-time, O]</td>\n",
       "    </tr>\n",
       "    <tr>\n",
       "      <th>4</th>\n",
       "      <td>remind me to water the plants on sunday morning</td>\n",
       "      <td>[O, O, O, B-task_detail, I-task_detail, I-task...</td>\n",
       "      <td>[O, O, O, O, O, O, O, B-date, O]</td>\n",
       "      <td>[O, O, O, O, O, O, O, O, B-time]</td>\n",
       "    </tr>\n",
       "  </tbody>\n",
       "</table>\n",
       "</div>"
      ],
      "text/plain": [
       "                                               input  \\\n",
       "0      schedule a meeting with john tomorrow at 2 pm   \n",
       "1       remind me to buy groceries on friday at 6 pm   \n",
       "2  schedule a call with sarah for next monday at ...   \n",
       "3  set a reminder to submit the project report by...   \n",
       "4    remind me to water the plants on sunday morning   \n",
       "\n",
       "                                        task_indices  \\\n",
       "0  [O, O, B-task_detail, I-task_detail, I-task_de...   \n",
       "1  [O, O, O, B-task_detail, I-task_detail, O, O, ...   \n",
       "2  [O, O, B-task_detail, I-task_detail, I-task_de...   \n",
       "3  [O, O, O, O, B-task_detail, I-task_detail, I-t...   \n",
       "4  [O, O, O, B-task_detail, I-task_detail, I-task...   \n",
       "\n",
       "                                  date_indices  \\\n",
       "0             [O, O, O, O, O, B-date, O, O, O]   \n",
       "1          [O, O, O, O, O, O, B-date, O, O, O]   \n",
       "2  [O, O, O, O, O, O, B-date, I-date, O, O, O]   \n",
       "3    [O, O, O, O, O, O, O, O, O, O, O, B-date]   \n",
       "4             [O, O, O, O, O, O, O, B-date, O]   \n",
       "\n",
       "                                     time_indices  \n",
       "0           [O, O, O, O, O, O, O, B-time, I-time]  \n",
       "1        [O, O, O, O, O, O, O, O, B-time, I-time]  \n",
       "2     [O, O, O, O, O, O, O, O, O, B-time, I-time]  \n",
       "3  [O, O, O, O, O, O, O, O, O, B-time, I-time, O]  \n",
       "4                [O, O, O, O, O, O, O, O, B-time]  "
      ]
     },
     "execution_count": 286,
     "metadata": {},
     "output_type": "execute_result"
    }
   ],
   "source": [
    "data.head()"
   ]
  },
  {
   "cell_type": "code",
   "execution_count": 287,
   "metadata": {},
   "outputs": [],
   "source": [
    "data.to_csv('set_index.csv', index=False)"
   ]
  },
  {
   "cell_type": "code",
   "execution_count": null,
   "metadata": {},
   "outputs": [],
   "source": []
  }
 ],
 "metadata": {
  "kernelspec": {
   "display_name": "tf",
   "language": "python",
   "name": "python3"
  },
  "language_info": {
   "codemirror_mode": {
    "name": "ipython",
    "version": 3
   },
   "file_extension": ".py",
   "mimetype": "text/x-python",
   "name": "python",
   "nbconvert_exporter": "python",
   "pygments_lexer": "ipython3",
   "version": "3.10.13"
  }
 },
 "nbformat": 4,
 "nbformat_minor": 2
}
